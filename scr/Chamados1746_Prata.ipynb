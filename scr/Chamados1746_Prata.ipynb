{
 "cells": [
  {
   "cell_type": "code",
   "execution_count": 0,
   "metadata": {
    "application/vnd.databricks.v1+cell": {
     "cellMetadata": {
      "byteLimit": 2048000,
      "rowLimit": 10000
     },
     "inputWidgets": {},
     "nuid": "7c0b189c-165c-4967-9814-adc2eab2c86b",
     "showTitle": false,
     "title": ""
    }
   },
   "outputs": [],
   "source": [
    "from pyspark.sql.functions import Column, lit, to_date, to_timestamp"
   ]
  },
  {
   "cell_type": "code",
   "execution_count": 0,
   "metadata": {
    "application/vnd.databricks.v1+cell": {
     "cellMetadata": {
      "byteLimit": 2048000,
      "rowLimit": 10000
     },
     "inputWidgets": {},
     "nuid": "2254098e-3199-4c38-af38-617b7631530c",
     "showTitle": false,
     "title": ""
    }
   },
   "outputs": [],
   "source": [
    "table_name = \"Chamados1746_Bronze\"\n",
    "\n",
    "# Load the table as a DataFrame\n",
    "loaded_df = spark.read.table(table_name)"
   ]
  },
  {
   "cell_type": "code",
   "execution_count": 0,
   "metadata": {
    "application/vnd.databricks.v1+cell": {
     "cellMetadata": {
      "byteLimit": 2048000,
      "rowLimit": 10000
     },
     "inputWidgets": {},
     "nuid": "1bb6b8bd-444a-4046-a3eb-aef620f8de58",
     "showTitle": false,
     "title": ""
    }
   },
   "outputs": [],
   "source": [
    "filtered_df = loaded_df.filter((~loaded_df.id_chamado.isNull()) & (~loaded_df.data_inicio.isNull()))"
   ]
  },
  {
   "cell_type": "code",
   "execution_count": 0,
   "metadata": {
    "application/vnd.databricks.v1+cell": {
     "cellMetadata": {
      "byteLimit": 2048000,
      "rowLimit": 10000
     },
     "inputWidgets": {},
     "nuid": "1b9c9825-471e-4d7b-82ad-3aee376dc817",
     "showTitle": false,
     "title": ""
    }
   },
   "outputs": [
    {
     "output_type": "display_data",
     "data": {
      "text/html": [
       "<style scoped>\n",
       "  .table-result-container {\n",
       "    max-height: 300px;\n",
       "    overflow: auto;\n",
       "  }\n",
       "  table, th, td {\n",
       "    border: 1px solid black;\n",
       "    border-collapse: collapse;\n",
       "  }\n",
       "  th, td {\n",
       "    padding: 5px;\n",
       "  }\n",
       "  th {\n",
       "    text-align: left;\n",
       "  }\n",
       "</style><div class='table-result-container'><table class='table-result'><thead style='background-color: white'><tr><th>id_chamado</th><th>id_origem_ocorrencia</th><th>data_inicio</th><th>data_fim</th><th>id_bairro</th><th>id_territorialidade</th><th>id_logradouro</th><th>numero_logradouro</th><th>id_unidade_organizacional</th><th>nome_unidade_organizacional</th><th>id_unidade_organizacional_mae</th><th>unidade_organizacional_ouvidoria</th><th>categoria</th><th>id_tipo</th><th>tipo</th><th>id_subtipo</th><th>subtipo</th><th>status</th><th>longitude</th><th>latitude</th><th>data_alvo_finalizacao</th><th>data_alvo_diagnostico</th><th>data_real_diagnostico</th><th>tempo_prazo</th><th>prazo_unidade</th><th>prazo_tipo</th><th>dentro_prazo</th><th>situacao</th><th>tipo_situacao</th><th>justificativa_status</th><th>reclamacoes</th><th>data_particao</th></tr></thead><tbody><tr><td>18005404</td><td>17</td><td>2022-12-09 23:41:49</td><td>2022-12-22 10:35:13</td><td>5</td><td>1</td><td>61127</td><td>432</td><td>70</td><td>GM-RIO - Guarda Municipal do Rio de Janeiro</td><td>GM-RIO - Guarda Municipal do Rio de Janeiro</td><td>False</td><td>Serviço</td><td>1615</td><td>Perturbação do sossego</td><td>5071</td><td>Perturbação do sossego</td><td>Sem possibilidade de atendimento</td><td>null</td><td>null</td><td>2022-12-16 23:41:00</td><td>null</td><td>null</td><td>null</td><td>D</td><td>F</td><td>Fora do prazo</td><td>Encerrado</td><td>Não atendido</td><td>null</td><td>0</td><td>2022-12-01</td></tr><tr><td>18029029</td><td>17</td><td>2022-12-16 00:44:49</td><td>2022-12-25 15:56:40</td><td>10</td><td>1</td><td>80267</td><td>478</td><td>70</td><td>GM-RIO - Guarda Municipal do Rio de Janeiro</td><td>GM-RIO - Guarda Municipal do Rio de Janeiro</td><td>False</td><td>Serviço</td><td>1615</td><td>Perturbação do sossego</td><td>5071</td><td>Perturbação do sossego</td><td>Sem possibilidade de atendimento</td><td>null</td><td>null</td><td>2022-12-23 00:44:00</td><td>null</td><td>null</td><td>null</td><td>D</td><td>F</td><td>Fora do prazo</td><td>Encerrado</td><td>Não atendido</td><td>null</td><td>0</td><td>2022-12-01</td></tr><tr><td>18035213</td><td>17</td><td>2022-12-18 03:56:57</td><td>2023-01-06 09:11:18</td><td>10</td><td>1</td><td>80267</td><td>478</td><td>70</td><td>GM-RIO - Guarda Municipal do Rio de Janeiro</td><td>GM-RIO - Guarda Municipal do Rio de Janeiro</td><td>False</td><td>Serviço</td><td>1615</td><td>Perturbação do sossego</td><td>5071</td><td>Perturbação do sossego</td><td>Sem possibilidade de atendimento</td><td>null</td><td>null</td><td>2022-12-25 03:56:00</td><td>null</td><td>null</td><td>null</td><td>D</td><td>F</td><td>Fora do prazo</td><td>Encerrado</td><td>Não atendido</td><td>null</td><td>0</td><td>2022-12-01</td></tr><tr><td>18035203</td><td>17</td><td>2022-12-18 02:33:17</td><td>2023-01-06 09:09:50</td><td>10</td><td>1</td><td>80267</td><td>478</td><td>70</td><td>GM-RIO - Guarda Municipal do Rio de Janeiro</td><td>GM-RIO - Guarda Municipal do Rio de Janeiro</td><td>False</td><td>Serviço</td><td>1615</td><td>Perturbação do sossego</td><td>5071</td><td>Perturbação do sossego</td><td>Sem possibilidade de atendimento</td><td>null</td><td>null</td><td>2022-12-25 02:33:00</td><td>null</td><td>null</td><td>null</td><td>D</td><td>F</td><td>Fora do prazo</td><td>Encerrado</td><td>Não atendido</td><td>null</td><td>0</td><td>2022-12-01</td></tr><tr><td>17983233</td><td>17</td><td>2022-12-04 21:58:37</td><td>2022-12-20 10:01:15</td><td>10</td><td>1</td><td>72504</td><td>256</td><td>70</td><td>GM-RIO - Guarda Municipal do Rio de Janeiro</td><td>GM-RIO - Guarda Municipal do Rio de Janeiro</td><td>False</td><td>Serviço</td><td>1615</td><td>Perturbação do sossego</td><td>5071</td><td>Perturbação do sossego</td><td>Sem possibilidade de atendimento</td><td>null</td><td>null</td><td>2022-12-11 21:58:00</td><td>null</td><td>null</td><td>null</td><td>D</td><td>F</td><td>Fora do prazo</td><td>Encerrado</td><td>Não atendido</td><td>null</td><td>0</td><td>2022-12-01</td></tr><tr><td>18035146</td><td>17</td><td>2022-12-18 00:01:36</td><td>2023-01-04 09:17:00</td><td>14</td><td>1</td><td>72884</td><td>null</td><td>70</td><td>GM-RIO - Guarda Municipal do Rio de Janeiro</td><td>GM-RIO - Guarda Municipal do Rio de Janeiro</td><td>False</td><td>Serviço</td><td>1615</td><td>Perturbação do sossego</td><td>5071</td><td>Perturbação do sossego</td><td>Sem possibilidade de atendimento</td><td>null</td><td>null</td><td>2022-12-25 00:01:00</td><td>null</td><td>null</td><td>null</td><td>D</td><td>F</td><td>Fora do prazo</td><td>Encerrado</td><td>Não atendido</td><td>null</td><td>0</td><td>2022-12-01</td></tr><tr><td>18036600</td><td>17</td><td>2022-12-18 23:33:56</td><td>2022-12-27 05:25:07</td><td>15</td><td>2</td><td>79327</td><td>null</td><td>70</td><td>GM-RIO - Guarda Municipal do Rio de Janeiro</td><td>GM-RIO - Guarda Municipal do Rio de Janeiro</td><td>False</td><td>Serviço</td><td>1615</td><td>Perturbação do sossego</td><td>5071</td><td>Perturbação do sossego</td><td>Sem possibilidade de atendimento</td><td>null</td><td>null</td><td>2022-12-25 23:33:00</td><td>null</td><td>null</td><td>null</td><td>D</td><td>F</td><td>Fora do prazo</td><td>Encerrado</td><td>Não atendido</td><td>null</td><td>0</td><td>2022-12-01</td></tr><tr><td>18034250</td><td>17</td><td>2022-12-17 14:10:07</td><td>2022-12-26 07:43:43</td><td>15</td><td>2</td><td>69708</td><td>null</td><td>70</td><td>GM-RIO - Guarda Municipal do Rio de Janeiro</td><td>GM-RIO - Guarda Municipal do Rio de Janeiro</td><td>False</td><td>Serviço</td><td>1615</td><td>Perturbação do sossego</td><td>5071</td><td>Perturbação do sossego</td><td>Sem possibilidade de atendimento</td><td>null</td><td>null</td><td>2022-12-24 14:10:00</td><td>null</td><td>null</td><td>null</td><td>D</td><td>F</td><td>Fora do prazo</td><td>Encerrado</td><td>Não atendido</td><td>null</td><td>0</td><td>2022-12-01</td></tr><tr><td>18032830</td><td>17</td><td>2022-12-16 20:16:20</td><td>2022-12-25 18:14:38</td><td>20</td><td>2</td><td>76232</td><td>73</td><td>70</td><td>GM-RIO - Guarda Municipal do Rio de Janeiro</td><td>GM-RIO - Guarda Municipal do Rio de Janeiro</td><td>False</td><td>Serviço</td><td>1615</td><td>Perturbação do sossego</td><td>5071</td><td>Perturbação do sossego</td><td>Sem possibilidade de atendimento</td><td>null</td><td>null</td><td>2022-12-23 20:16:00</td><td>null</td><td>null</td><td>null</td><td>D</td><td>F</td><td>Fora do prazo</td><td>Encerrado</td><td>Não atendido</td><td>null</td><td>0</td><td>2022-12-01</td></tr><tr><td>18041145</td><td>17</td><td>2022-12-19 21:58:27</td><td>2022-12-31 16:25:23</td><td>22</td><td>2</td><td>78741</td><td>null</td><td>70</td><td>GM-RIO - Guarda Municipal do Rio de Janeiro</td><td>GM-RIO - Guarda Municipal do Rio de Janeiro</td><td>False</td><td>Serviço</td><td>1615</td><td>Perturbação do sossego</td><td>5071</td><td>Perturbação do sossego</td><td>Sem possibilidade de atendimento</td><td>null</td><td>null</td><td>2022-12-26 21:58:00</td><td>null</td><td>null</td><td>null</td><td>D</td><td>F</td><td>Fora do prazo</td><td>Encerrado</td><td>Não atendido</td><td>null</td><td>0</td><td>2022-12-01</td></tr></tbody></table></div>"
      ]
     },
     "metadata": {
      "application/vnd.databricks.v1+output": {
       "addedWidgets": {},
       "aggData": [],
       "aggError": "",
       "aggOverflow": false,
       "aggSchema": [],
       "aggSeriesLimitReached": false,
       "aggType": "",
       "arguments": {},
       "columnCustomDisplayInfos": {},
       "data": [
        [
         "18005404",
         "17",
         "2022-12-09 23:41:49",
         "2022-12-22 10:35:13",
         "5",
         "1",
         "61127",
         "432",
         "70",
         "GM-RIO - Guarda Municipal do Rio de Janeiro",
         "GM-RIO - Guarda Municipal do Rio de Janeiro",
         "False",
         "Serviço",
         "1615",
         "Perturbação do sossego",
         "5071",
         "Perturbação do sossego",
         "Sem possibilidade de atendimento",
         null,
         null,
         "2022-12-16 23:41:00",
         null,
         null,
         null,
         "D",
         "F",
         "Fora do prazo",
         "Encerrado",
         "Não atendido",
         null,
         "0",
         "2022-12-01"
        ],
        [
         "18029029",
         "17",
         "2022-12-16 00:44:49",
         "2022-12-25 15:56:40",
         "10",
         "1",
         "80267",
         "478",
         "70",
         "GM-RIO - Guarda Municipal do Rio de Janeiro",
         "GM-RIO - Guarda Municipal do Rio de Janeiro",
         "False",
         "Serviço",
         "1615",
         "Perturbação do sossego",
         "5071",
         "Perturbação do sossego",
         "Sem possibilidade de atendimento",
         null,
         null,
         "2022-12-23 00:44:00",
         null,
         null,
         null,
         "D",
         "F",
         "Fora do prazo",
         "Encerrado",
         "Não atendido",
         null,
         "0",
         "2022-12-01"
        ],
        [
         "18035213",
         "17",
         "2022-12-18 03:56:57",
         "2023-01-06 09:11:18",
         "10",
         "1",
         "80267",
         "478",
         "70",
         "GM-RIO - Guarda Municipal do Rio de Janeiro",
         "GM-RIO - Guarda Municipal do Rio de Janeiro",
         "False",
         "Serviço",
         "1615",
         "Perturbação do sossego",
         "5071",
         "Perturbação do sossego",
         "Sem possibilidade de atendimento",
         null,
         null,
         "2022-12-25 03:56:00",
         null,
         null,
         null,
         "D",
         "F",
         "Fora do prazo",
         "Encerrado",
         "Não atendido",
         null,
         "0",
         "2022-12-01"
        ],
        [
         "18035203",
         "17",
         "2022-12-18 02:33:17",
         "2023-01-06 09:09:50",
         "10",
         "1",
         "80267",
         "478",
         "70",
         "GM-RIO - Guarda Municipal do Rio de Janeiro",
         "GM-RIO - Guarda Municipal do Rio de Janeiro",
         "False",
         "Serviço",
         "1615",
         "Perturbação do sossego",
         "5071",
         "Perturbação do sossego",
         "Sem possibilidade de atendimento",
         null,
         null,
         "2022-12-25 02:33:00",
         null,
         null,
         null,
         "D",
         "F",
         "Fora do prazo",
         "Encerrado",
         "Não atendido",
         null,
         "0",
         "2022-12-01"
        ],
        [
         "17983233",
         "17",
         "2022-12-04 21:58:37",
         "2022-12-20 10:01:15",
         "10",
         "1",
         "72504",
         "256",
         "70",
         "GM-RIO - Guarda Municipal do Rio de Janeiro",
         "GM-RIO - Guarda Municipal do Rio de Janeiro",
         "False",
         "Serviço",
         "1615",
         "Perturbação do sossego",
         "5071",
         "Perturbação do sossego",
         "Sem possibilidade de atendimento",
         null,
         null,
         "2022-12-11 21:58:00",
         null,
         null,
         null,
         "D",
         "F",
         "Fora do prazo",
         "Encerrado",
         "Não atendido",
         null,
         "0",
         "2022-12-01"
        ],
        [
         "18035146",
         "17",
         "2022-12-18 00:01:36",
         "2023-01-04 09:17:00",
         "14",
         "1",
         "72884",
         null,
         "70",
         "GM-RIO - Guarda Municipal do Rio de Janeiro",
         "GM-RIO - Guarda Municipal do Rio de Janeiro",
         "False",
         "Serviço",
         "1615",
         "Perturbação do sossego",
         "5071",
         "Perturbação do sossego",
         "Sem possibilidade de atendimento",
         null,
         null,
         "2022-12-25 00:01:00",
         null,
         null,
         null,
         "D",
         "F",
         "Fora do prazo",
         "Encerrado",
         "Não atendido",
         null,
         "0",
         "2022-12-01"
        ],
        [
         "18036600",
         "17",
         "2022-12-18 23:33:56",
         "2022-12-27 05:25:07",
         "15",
         "2",
         "79327",
         null,
         "70",
         "GM-RIO - Guarda Municipal do Rio de Janeiro",
         "GM-RIO - Guarda Municipal do Rio de Janeiro",
         "False",
         "Serviço",
         "1615",
         "Perturbação do sossego",
         "5071",
         "Perturbação do sossego",
         "Sem possibilidade de atendimento",
         null,
         null,
         "2022-12-25 23:33:00",
         null,
         null,
         null,
         "D",
         "F",
         "Fora do prazo",
         "Encerrado",
         "Não atendido",
         null,
         "0",
         "2022-12-01"
        ],
        [
         "18034250",
         "17",
         "2022-12-17 14:10:07",
         "2022-12-26 07:43:43",
         "15",
         "2",
         "69708",
         null,
         "70",
         "GM-RIO - Guarda Municipal do Rio de Janeiro",
         "GM-RIO - Guarda Municipal do Rio de Janeiro",
         "False",
         "Serviço",
         "1615",
         "Perturbação do sossego",
         "5071",
         "Perturbação do sossego",
         "Sem possibilidade de atendimento",
         null,
         null,
         "2022-12-24 14:10:00",
         null,
         null,
         null,
         "D",
         "F",
         "Fora do prazo",
         "Encerrado",
         "Não atendido",
         null,
         "0",
         "2022-12-01"
        ],
        [
         "18032830",
         "17",
         "2022-12-16 20:16:20",
         "2022-12-25 18:14:38",
         "20",
         "2",
         "76232",
         "73",
         "70",
         "GM-RIO - Guarda Municipal do Rio de Janeiro",
         "GM-RIO - Guarda Municipal do Rio de Janeiro",
         "False",
         "Serviço",
         "1615",
         "Perturbação do sossego",
         "5071",
         "Perturbação do sossego",
         "Sem possibilidade de atendimento",
         null,
         null,
         "2022-12-23 20:16:00",
         null,
         null,
         null,
         "D",
         "F",
         "Fora do prazo",
         "Encerrado",
         "Não atendido",
         null,
         "0",
         "2022-12-01"
        ],
        [
         "18041145",
         "17",
         "2022-12-19 21:58:27",
         "2022-12-31 16:25:23",
         "22",
         "2",
         "78741",
         null,
         "70",
         "GM-RIO - Guarda Municipal do Rio de Janeiro",
         "GM-RIO - Guarda Municipal do Rio de Janeiro",
         "False",
         "Serviço",
         "1615",
         "Perturbação do sossego",
         "5071",
         "Perturbação do sossego",
         "Sem possibilidade de atendimento",
         null,
         null,
         "2022-12-26 21:58:00",
         null,
         null,
         null,
         "D",
         "F",
         "Fora do prazo",
         "Encerrado",
         "Não atendido",
         null,
         "0",
         "2022-12-01"
        ]
       ],
       "datasetInfos": [],
       "dbfsResultPath": null,
       "isJsonSchema": true,
       "metadata": {},
       "overflow": false,
       "plotOptions": {
        "customPlotOptions": {},
        "displayType": "table",
        "pivotAggregation": null,
        "pivotColumns": null,
        "xColumns": null,
        "yColumns": null
       },
       "removedWidgets": [],
       "schema": [
        {
         "metadata": "{}",
         "name": "id_chamado",
         "type": "\"string\""
        },
        {
         "metadata": "{}",
         "name": "id_origem_ocorrencia",
         "type": "\"string\""
        },
        {
         "metadata": "{}",
         "name": "data_inicio",
         "type": "\"string\""
        },
        {
         "metadata": "{}",
         "name": "data_fim",
         "type": "\"string\""
        },
        {
         "metadata": "{}",
         "name": "id_bairro",
         "type": "\"string\""
        },
        {
         "metadata": "{}",
         "name": "id_territorialidade",
         "type": "\"string\""
        },
        {
         "metadata": "{}",
         "name": "id_logradouro",
         "type": "\"string\""
        },
        {
         "metadata": "{}",
         "name": "numero_logradouro",
         "type": "\"string\""
        },
        {
         "metadata": "{}",
         "name": "id_unidade_organizacional",
         "type": "\"string\""
        },
        {
         "metadata": "{}",
         "name": "nome_unidade_organizacional",
         "type": "\"string\""
        },
        {
         "metadata": "{}",
         "name": "id_unidade_organizacional_mae",
         "type": "\"string\""
        },
        {
         "metadata": "{}",
         "name": "unidade_organizacional_ouvidoria",
         "type": "\"string\""
        },
        {
         "metadata": "{}",
         "name": "categoria",
         "type": "\"string\""
        },
        {
         "metadata": "{}",
         "name": "id_tipo",
         "type": "\"string\""
        },
        {
         "metadata": "{}",
         "name": "tipo",
         "type": "\"string\""
        },
        {
         "metadata": "{}",
         "name": "id_subtipo",
         "type": "\"string\""
        },
        {
         "metadata": "{}",
         "name": "subtipo",
         "type": "\"string\""
        },
        {
         "metadata": "{}",
         "name": "status",
         "type": "\"string\""
        },
        {
         "metadata": "{}",
         "name": "longitude",
         "type": "\"string\""
        },
        {
         "metadata": "{}",
         "name": "latitude",
         "type": "\"string\""
        },
        {
         "metadata": "{}",
         "name": "data_alvo_finalizacao",
         "type": "\"string\""
        },
        {
         "metadata": "{}",
         "name": "data_alvo_diagnostico",
         "type": "\"string\""
        },
        {
         "metadata": "{}",
         "name": "data_real_diagnostico",
         "type": "\"string\""
        },
        {
         "metadata": "{}",
         "name": "tempo_prazo",
         "type": "\"string\""
        },
        {
         "metadata": "{}",
         "name": "prazo_unidade",
         "type": "\"string\""
        },
        {
         "metadata": "{}",
         "name": "prazo_tipo",
         "type": "\"string\""
        },
        {
         "metadata": "{}",
         "name": "dentro_prazo",
         "type": "\"string\""
        },
        {
         "metadata": "{}",
         "name": "situacao",
         "type": "\"string\""
        },
        {
         "metadata": "{}",
         "name": "tipo_situacao",
         "type": "\"string\""
        },
        {
         "metadata": "{}",
         "name": "justificativa_status",
         "type": "\"string\""
        },
        {
         "metadata": "{}",
         "name": "reclamacoes",
         "type": "\"string\""
        },
        {
         "metadata": "{}",
         "name": "data_particao",
         "type": "\"string\""
        }
       ],
       "type": "table"
      }
     },
     "output_type": "display_data"
    }
   ],
   "source": [
    "display(filtered_df.limit(10))"
   ]
  },
  {
   "cell_type": "code",
   "execution_count": 0,
   "metadata": {
    "application/vnd.databricks.v1+cell": {
     "cellMetadata": {
      "byteLimit": 2048000,
      "rowLimit": 10000
     },
     "inputWidgets": {},
     "nuid": "5dd3cce7-ee04-49f0-a42d-28a3d8778393",
     "showTitle": false,
     "title": ""
    }
   },
   "outputs": [],
   "source": [
    "df_prata = filtered_df.withColumn(\"id_chamado\", filtered_df.id_chamado.cast(\"string\")) \\\n",
    "      .withColumn(\"subtipo\", filtered_df.subtipo.cast(\"string\"))\n",
    "\n",
    "# Convert 'data_inicio' to a DateType column\n",
    "df_prata = df_prata.withColumn(\"data_inicio\", to_timestamp(df_prata[\"data_inicio\"], \"yyyy-MM-dd HH:mm:ss\")) \\\n",
    "      .withColumn(\"data_fim\", to_timestamp(df_prata[\"data_fim\"], \"yyyy-MM-dd HH:mm:ss\"))\n",
    "\n",
    "# Keep only the columns important to analises\n",
    "columns = ['id_chamado', 'data_inicio', 'data_fim','subtipo','categoria','id_bairro']\n",
    "df_prata = df_prata.select(*columns)"
   ]
  },
  {
   "cell_type": "code",
   "execution_count": 0,
   "metadata": {
    "application/vnd.databricks.v1+cell": {
     "cellMetadata": {
      "byteLimit": 2048000,
      "rowLimit": 10000
     },
     "inputWidgets": {},
     "nuid": "ee976fa9-b1a2-4e71-b961-3eecec25ce29",
     "showTitle": false,
     "title": ""
    }
   },
   "outputs": [
    {
     "output_type": "display_data",
     "data": {
      "text/html": [
       "<style scoped>\n",
       "  .table-result-container {\n",
       "    max-height: 300px;\n",
       "    overflow: auto;\n",
       "  }\n",
       "  table, th, td {\n",
       "    border: 1px solid black;\n",
       "    border-collapse: collapse;\n",
       "  }\n",
       "  th, td {\n",
       "    padding: 5px;\n",
       "  }\n",
       "  th {\n",
       "    text-align: left;\n",
       "  }\n",
       "</style><div class='table-result-container'><table class='table-result'><thead style='background-color: white'><tr><th>id_chamado</th><th>data_inicio</th><th>data_fim</th><th>subtipo</th><th>categoria</th><th>id_bairro</th></tr></thead><tbody><tr><td>18005404</td><td>2022-12-09T23:41:49.000+0000</td><td>2022-12-22T10:35:13.000+0000</td><td>Perturbação do sossego</td><td>Serviço</td><td>5</td></tr><tr><td>18029029</td><td>2022-12-16T00:44:49.000+0000</td><td>2022-12-25T15:56:40.000+0000</td><td>Perturbação do sossego</td><td>Serviço</td><td>10</td></tr><tr><td>18035213</td><td>2022-12-18T03:56:57.000+0000</td><td>2023-01-06T09:11:18.000+0000</td><td>Perturbação do sossego</td><td>Serviço</td><td>10</td></tr><tr><td>18035203</td><td>2022-12-18T02:33:17.000+0000</td><td>2023-01-06T09:09:50.000+0000</td><td>Perturbação do sossego</td><td>Serviço</td><td>10</td></tr><tr><td>17983233</td><td>2022-12-04T21:58:37.000+0000</td><td>2022-12-20T10:01:15.000+0000</td><td>Perturbação do sossego</td><td>Serviço</td><td>10</td></tr><tr><td>18035146</td><td>2022-12-18T00:01:36.000+0000</td><td>2023-01-04T09:17:00.000+0000</td><td>Perturbação do sossego</td><td>Serviço</td><td>14</td></tr><tr><td>18036600</td><td>2022-12-18T23:33:56.000+0000</td><td>2022-12-27T05:25:07.000+0000</td><td>Perturbação do sossego</td><td>Serviço</td><td>15</td></tr><tr><td>18034250</td><td>2022-12-17T14:10:07.000+0000</td><td>2022-12-26T07:43:43.000+0000</td><td>Perturbação do sossego</td><td>Serviço</td><td>15</td></tr><tr><td>18032830</td><td>2022-12-16T20:16:20.000+0000</td><td>2022-12-25T18:14:38.000+0000</td><td>Perturbação do sossego</td><td>Serviço</td><td>20</td></tr><tr><td>18041145</td><td>2022-12-19T21:58:27.000+0000</td><td>2022-12-31T16:25:23.000+0000</td><td>Perturbação do sossego</td><td>Serviço</td><td>22</td></tr></tbody></table></div>"
      ]
     },
     "metadata": {
      "application/vnd.databricks.v1+output": {
       "addedWidgets": {},
       "aggData": [],
       "aggError": "",
       "aggOverflow": false,
       "aggSchema": [],
       "aggSeriesLimitReached": false,
       "aggType": "",
       "arguments": {},
       "columnCustomDisplayInfos": {},
       "data": [
        [
         "18005404",
         "2022-12-09T23:41:49.000+0000",
         "2022-12-22T10:35:13.000+0000",
         "Perturbação do sossego",
         "Serviço",
         "5"
        ],
        [
         "18029029",
         "2022-12-16T00:44:49.000+0000",
         "2022-12-25T15:56:40.000+0000",
         "Perturbação do sossego",
         "Serviço",
         "10"
        ],
        [
         "18035213",
         "2022-12-18T03:56:57.000+0000",
         "2023-01-06T09:11:18.000+0000",
         "Perturbação do sossego",
         "Serviço",
         "10"
        ],
        [
         "18035203",
         "2022-12-18T02:33:17.000+0000",
         "2023-01-06T09:09:50.000+0000",
         "Perturbação do sossego",
         "Serviço",
         "10"
        ],
        [
         "17983233",
         "2022-12-04T21:58:37.000+0000",
         "2022-12-20T10:01:15.000+0000",
         "Perturbação do sossego",
         "Serviço",
         "10"
        ],
        [
         "18035146",
         "2022-12-18T00:01:36.000+0000",
         "2023-01-04T09:17:00.000+0000",
         "Perturbação do sossego",
         "Serviço",
         "14"
        ],
        [
         "18036600",
         "2022-12-18T23:33:56.000+0000",
         "2022-12-27T05:25:07.000+0000",
         "Perturbação do sossego",
         "Serviço",
         "15"
        ],
        [
         "18034250",
         "2022-12-17T14:10:07.000+0000",
         "2022-12-26T07:43:43.000+0000",
         "Perturbação do sossego",
         "Serviço",
         "15"
        ],
        [
         "18032830",
         "2022-12-16T20:16:20.000+0000",
         "2022-12-25T18:14:38.000+0000",
         "Perturbação do sossego",
         "Serviço",
         "20"
        ],
        [
         "18041145",
         "2022-12-19T21:58:27.000+0000",
         "2022-12-31T16:25:23.000+0000",
         "Perturbação do sossego",
         "Serviço",
         "22"
        ]
       ],
       "datasetInfos": [],
       "dbfsResultPath": null,
       "isJsonSchema": true,
       "metadata": {},
       "overflow": false,
       "plotOptions": {
        "customPlotOptions": {},
        "displayType": "table",
        "pivotAggregation": null,
        "pivotColumns": null,
        "xColumns": null,
        "yColumns": null
       },
       "removedWidgets": [],
       "schema": [
        {
         "metadata": "{}",
         "name": "id_chamado",
         "type": "\"string\""
        },
        {
         "metadata": "{}",
         "name": "data_inicio",
         "type": "\"timestamp\""
        },
        {
         "metadata": "{}",
         "name": "data_fim",
         "type": "\"timestamp\""
        },
        {
         "metadata": "{}",
         "name": "subtipo",
         "type": "\"string\""
        },
        {
         "metadata": "{}",
         "name": "categoria",
         "type": "\"string\""
        },
        {
         "metadata": "{}",
         "name": "id_bairro",
         "type": "\"string\""
        }
       ],
       "type": "table"
      }
     },
     "output_type": "display_data"
    }
   ],
   "source": [
    "display(df_prata.limit(10))"
   ]
  },
  {
   "cell_type": "code",
   "execution_count": 0,
   "metadata": {
    "application/vnd.databricks.v1+cell": {
     "cellMetadata": {
      "byteLimit": 2048000,
      "rowLimit": 10000
     },
     "inputWidgets": {},
     "nuid": "36e1e049-3c28-45ba-9ab2-ba1b97a48dc5",
     "showTitle": false,
     "title": ""
    }
   },
   "outputs": [],
   "source": [
    "permanent_table_name = \"Chamados1746_Prata\"\n",
    "\n",
    "spark.sql(\"DROP TABLE IF EXISTS Chamados1746_Prata\")\n",
    "df_prata.write.mode(\"overwrite\").format(\"delta\").saveAsTable(permanent_table_name)"
   ]
  },
  {
   "cell_type": "code",
   "execution_count": 0,
   "metadata": {
    "application/vnd.databricks.v1+cell": {
     "cellMetadata": {
      "byteLimit": 2048000,
      "implicitDf": true,
      "rowLimit": 10000
     },
     "inputWidgets": {},
     "nuid": "9a69ec2a-46e7-4f37-9d95-d041bdd6f0d7",
     "showTitle": false,
     "title": ""
    }
   },
   "outputs": [
    {
     "output_type": "display_data",
     "data": {
      "text/html": [
       "<style scoped>\n",
       "  .table-result-container {\n",
       "    max-height: 300px;\n",
       "    overflow: auto;\n",
       "  }\n",
       "  table, th, td {\n",
       "    border: 1px solid black;\n",
       "    border-collapse: collapse;\n",
       "  }\n",
       "  th, td {\n",
       "    padding: 5px;\n",
       "  }\n",
       "  th {\n",
       "    text-align: left;\n",
       "  }\n",
       "</style><div class='table-result-container'><table class='table-result'><thead style='background-color: white'><tr></tr></thead><tbody></tbody></table></div>"
      ]
     },
     "metadata": {
      "application/vnd.databricks.v1+output": {
       "addedWidgets": {},
       "aggData": [],
       "aggError": "",
       "aggOverflow": false,
       "aggSchema": [],
       "aggSeriesLimitReached": false,
       "aggType": "",
       "arguments": {},
       "columnCustomDisplayInfos": {},
       "data": [],
       "datasetInfos": [],
       "dbfsResultPath": null,
       "isJsonSchema": true,
       "metadata": {},
       "overflow": false,
       "plotOptions": {
        "customPlotOptions": {},
        "displayType": "table",
        "pivotAggregation": null,
        "pivotColumns": null,
        "xColumns": null,
        "yColumns": null
       },
       "removedWidgets": [],
       "schema": [],
       "type": "table"
      }
     },
     "output_type": "display_data"
    }
   ],
   "source": [
    "%sql\n",
    "ALTER TABLE chamados1746_prata ALTER COLUMN id_chamado COMMENT \"Identificador de cada chamado\";\n",
    "ALTER TABLE chamados1746_prata ALTER COLUMN subtipo COMMENT \"Subtipo do chamado\";\n",
    "ALTER TABLE chamados1746_prata ALTER COLUMN data_inicio COMMENT \"Data de abertura do chamado\";\n",
    "ALTER TABLE chamados1746_prata ALTER COLUMN data_fim COMMENT \"Data de fechamento do chamado. O chamado é fechado quando o pedido é atendido ou quando se percebe que o pedido não pode ser atendido.\";\n",
    "ALTER TABLE chamados1746_prata ALTER COLUMN categoria COMMENT \"Categoria do chamado. Exemplo: Serviço, informação, sugestão, elogio, reclamação, crítica.\";\n",
    "ALTER TABLE chamados1746_prata ALTER COLUMN id_bairro COMMENT \"Identificador único, no banco de dados, do bairro onde ocorreu o fato que gerou o chamado.\";\n"
   ]
  }
 ],
 "metadata": {
  "application/vnd.databricks.v1+notebook": {
   "dashboards": [],
   "environmentMetadata": null,
   "language": "python",
   "notebookMetadata": {
    "mostRecentlyExecutedCommandWithImplicitDF": {
     "commandId": 1027110790553602,
     "dataframes": [
      "_sqldf"
     ]
    },
    "pythonIndentUnit": 4
   },
   "notebookName": "Chamados1746_Prata",
   "widgets": {}
  }
 },
 "nbformat": 4,
 "nbformat_minor": 0
}
