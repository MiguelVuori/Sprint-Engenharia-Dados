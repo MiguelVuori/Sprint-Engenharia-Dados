{
 "cells": [
  {
   "cell_type": "code",
   "execution_count": 0,
   "metadata": {
    "application/vnd.databricks.v1+cell": {
     "cellMetadata": {
      "byteLimit": 2048000,
      "rowLimit": 10000
     },
     "inputWidgets": {},
     "nuid": "74d3bdbc-dfc1-4c15-a3ff-1b2afffc50a0",
     "showTitle": false,
     "title": ""
    }
   },
   "outputs": [
    {
     "output_type": "stream",
     "name": "stdout",
     "output_type": "stream",
     "text": [
      "+--------------------+------------+----------+-----------+-------------+\n|                 ano|data_inicial|data_final|     evento|taxa_ocupacao|\n+--------------------+------------+----------+-----------+-------------+\n|18/02 a 21/02 de ...|  2023-02-18|2023-02-21|   Carnaval|       0.9554|\n|30-31/12 e 01/01 ...|  2022-12-30|2023-01-01|  Reveillon|       0.9251|\n|08/09 a 11/09 de ...|  2022-09-08|2022-09-11|Rock in Rio|       0.9451|\n|02/09 a 04/09 de ...|  2022-09-02|2022-09-04|Rock in Rio|       0.8184|\n+--------------------+------------+----------+-----------+-------------+\n\n"
     ]
    }
   ],
   "source": [
    "from pyspark.sql.functions import Column, lit, to_date\n",
    "\n",
    "table_name = \"Eventos_Bronze\"\n",
    "\n",
    "# Load the table as a DataFrame\n",
    "loaded_df = spark.read.table(table_name)\n",
    "\n",
    "# Now you can work with the DataFrame 'loaded_df'\n",
    "loaded_df.show()"
   ]
  },
  {
   "cell_type": "code",
   "execution_count": 0,
   "metadata": {
    "application/vnd.databricks.v1+cell": {
     "cellMetadata": {
      "byteLimit": 2048000,
      "rowLimit": 10000
     },
     "inputWidgets": {},
     "nuid": "22b6ef84-f678-477f-9a73-2ff3280624de",
     "showTitle": false,
     "title": ""
    }
   },
   "outputs": [],
   "source": [
    "# Convert 'data_inicio' and 'data_final' to a DateType column\n",
    "df = loaded_df.withColumn(\"data_inicial\", to_date(loaded_df[\"data_inicial\"], \"yyyy-MM-dd\")) \\\n",
    "      .withColumn(\"data_final\", to_date(loaded_df[\"data_final\"], \"yyyy-MM-dd\"))"
   ]
  },
  {
   "cell_type": "code",
   "execution_count": 0,
   "metadata": {
    "application/vnd.databricks.v1+cell": {
     "cellMetadata": {
      "byteLimit": 2048000,
      "rowLimit": 10000
     },
     "inputWidgets": {},
     "nuid": "d9923a56-b41d-480e-87db-ea9038f5fba1",
     "showTitle": false,
     "title": ""
    }
   },
   "outputs": [],
   "source": [
    "# Add descriptions (including temporary comment column for clarity)\n",
    "df = df.withColumn(\"comment_evento\", lit(\"Nome do evento\")) \\\n",
    "      .withColumn(\"comment_data_inicial\", lit(\"Data de inicio do evento.\")) \\\n",
    "      .withColumn(\"comment_data_final\", lit(\"Data do final do evento.\"))"
   ]
  },
  {
   "cell_type": "code",
   "execution_count": 0,
   "metadata": {
    "application/vnd.databricks.v1+cell": {
     "cellMetadata": {
      "byteLimit": 2048000,
      "rowLimit": 10000
     },
     "inputWidgets": {},
     "nuid": "f695dd8d-117e-47e1-aec2-ae9834603041",
     "showTitle": false,
     "title": ""
    }
   },
   "outputs": [],
   "source": [
    "columns = ['evento', 'data_inicial', 'data_final']\n",
    "df = df.select(*columns)"
   ]
  },
  {
   "cell_type": "code",
   "execution_count": 0,
   "metadata": {
    "application/vnd.databricks.v1+cell": {
     "cellMetadata": {
      "byteLimit": 2048000,
      "rowLimit": 10000
     },
     "inputWidgets": {},
     "nuid": "d14ce7ed-9076-4f3a-97ee-2d253b19b9b3",
     "showTitle": false,
     "title": ""
    }
   },
   "outputs": [
    {
     "output_type": "display_data",
     "data": {
      "text/html": [
       "<style scoped>\n",
       "  .table-result-container {\n",
       "    max-height: 300px;\n",
       "    overflow: auto;\n",
       "  }\n",
       "  table, th, td {\n",
       "    border: 1px solid black;\n",
       "    border-collapse: collapse;\n",
       "  }\n",
       "  th, td {\n",
       "    padding: 5px;\n",
       "  }\n",
       "  th {\n",
       "    text-align: left;\n",
       "  }\n",
       "</style><div class='table-result-container'><table class='table-result'><thead style='background-color: white'><tr><th>evento</th><th>data_inicial</th><th>data_final</th></tr></thead><tbody><tr><td>Carnaval</td><td>2023-02-18</td><td>2023-02-21</td></tr><tr><td>Reveillon</td><td>2022-12-30</td><td>2023-01-01</td></tr><tr><td>Rock in Rio</td><td>2022-09-08</td><td>2022-09-11</td></tr><tr><td>Rock in Rio</td><td>2022-09-02</td><td>2022-09-04</td></tr></tbody></table></div>"
      ]
     },
     "metadata": {
      "application/vnd.databricks.v1+output": {
       "addedWidgets": {},
       "aggData": [],
       "aggError": "",
       "aggOverflow": false,
       "aggSchema": [],
       "aggSeriesLimitReached": false,
       "aggType": "",
       "arguments": {},
       "columnCustomDisplayInfos": {},
       "data": [
        [
         "Carnaval",
         "2023-02-18",
         "2023-02-21"
        ],
        [
         "Reveillon",
         "2022-12-30",
         "2023-01-01"
        ],
        [
         "Rock in Rio",
         "2022-09-08",
         "2022-09-11"
        ],
        [
         "Rock in Rio",
         "2022-09-02",
         "2022-09-04"
        ]
       ],
       "datasetInfos": [],
       "dbfsResultPath": null,
       "isJsonSchema": true,
       "metadata": {},
       "overflow": false,
       "plotOptions": {
        "customPlotOptions": {},
        "displayType": "table",
        "pivotAggregation": null,
        "pivotColumns": null,
        "xColumns": null,
        "yColumns": null
       },
       "removedWidgets": [],
       "schema": [
        {
         "metadata": "{\"comment\":\"Nome do evento\"}",
         "name": "evento",
         "type": "\"string\""
        },
        {
         "metadata": "{}",
         "name": "data_inicial",
         "type": "\"date\""
        },
        {
         "metadata": "{}",
         "name": "data_final",
         "type": "\"date\""
        }
       ],
       "type": "table"
      }
     },
     "output_type": "display_data"
    }
   ],
   "source": [
    "display(df)"
   ]
  },
  {
   "cell_type": "code",
   "execution_count": 0,
   "metadata": {
    "application/vnd.databricks.v1+cell": {
     "cellMetadata": {
      "byteLimit": 2048000,
      "rowLimit": 10000
     },
     "inputWidgets": {},
     "nuid": "986121c5-ab3c-4152-bb1b-2da9f7c645f5",
     "showTitle": false,
     "title": ""
    }
   },
   "outputs": [],
   "source": [
    "permanent_table_name = \"Eventos_Prata\"\n",
    "\n",
    "#spark.sql(\"DROP TABLE IF EXISTS Eventos_Prata\")\n",
    "df.write.mode(\"overwrite\").format(\"delta\").saveAsTable(permanent_table_name)"
   ]
  },
  {
   "cell_type": "code",
   "execution_count": 0,
   "metadata": {
    "application/vnd.databricks.v1+cell": {
     "cellMetadata": {
      "byteLimit": 2048000,
      "implicitDf": true,
      "rowLimit": 10000
     },
     "inputWidgets": {},
     "nuid": "9e1b3219-0af0-4b0c-9237-fd50b735761d",
     "showTitle": false,
     "title": ""
    }
   },
   "outputs": [
    {
     "output_type": "display_data",
     "data": {
      "text/html": [
       "<style scoped>\n",
       "  .table-result-container {\n",
       "    max-height: 300px;\n",
       "    overflow: auto;\n",
       "  }\n",
       "  table, th, td {\n",
       "    border: 1px solid black;\n",
       "    border-collapse: collapse;\n",
       "  }\n",
       "  th, td {\n",
       "    padding: 5px;\n",
       "  }\n",
       "  th {\n",
       "    text-align: left;\n",
       "  }\n",
       "</style><div class='table-result-container'><table class='table-result'><thead style='background-color: white'><tr></tr></thead><tbody></tbody></table></div>"
      ]
     },
     "metadata": {
      "application/vnd.databricks.v1+output": {
       "addedWidgets": {},
       "aggData": [],
       "aggError": "",
       "aggOverflow": false,
       "aggSchema": [],
       "aggSeriesLimitReached": false,
       "aggType": "",
       "arguments": {},
       "columnCustomDisplayInfos": {},
       "data": [],
       "datasetInfos": [],
       "dbfsResultPath": null,
       "isJsonSchema": true,
       "metadata": {
        "dataframeName": null
       },
       "overflow": false,
       "plotOptions": {
        "customPlotOptions": {},
        "displayType": "table",
        "pivotAggregation": null,
        "pivotColumns": null,
        "xColumns": null,
        "yColumns": null
       },
       "removedWidgets": [],
       "schema": [],
       "type": "table"
      }
     },
     "output_type": "display_data"
    }
   ],
   "source": [
    "%sql\n",
    "ALTER TABLE eventos_prata ALTER COLUMN evento COMMENT \"Nome do evento\";\n",
    "ALTER TABLE eventos_prata ALTER COLUMN data_inicial COMMENT \"Data de inicio do evento\";\n",
    "ALTER TABLE eventos_prata ALTER COLUMN data_final COMMENT \"Data de termino do evento\";"
   ]
  }
 ],
 "metadata": {
  "application/vnd.databricks.v1+notebook": {
   "dashboards": [],
   "environmentMetadata": null,
   "language": "python",
   "notebookMetadata": {
    "mostRecentlyExecutedCommandWithImplicitDF": {
     "commandId": 3270902759735055,
     "dataframes": [
      "_sqldf"
     ]
    },
    "pythonIndentUnit": 4
   },
   "notebookName": "Eventos_Prata",
   "widgets": {}
  }
 },
 "nbformat": 4,
 "nbformat_minor": 0
}
