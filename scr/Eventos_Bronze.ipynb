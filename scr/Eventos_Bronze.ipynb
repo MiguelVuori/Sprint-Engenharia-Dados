{
 "cells": [
  {
   "cell_type": "code",
   "execution_count": 0,
   "metadata": {
    "application/vnd.databricks.v1+cell": {
     "cellMetadata": {
      "byteLimit": 2048000,
      "rowLimit": 10000
     },
     "inputWidgets": {},
     "nuid": "6482be4c-f067-47c9-b0ac-35c938b94601",
     "showTitle": false,
     "title": ""
    }
   },
   "outputs": [
    {
     "output_type": "display_data",
     "data": {
      "text/html": [
       "<style scoped>\n",
       "  .table-result-container {\n",
       "    max-height: 300px;\n",
       "    overflow: auto;\n",
       "  }\n",
       "  table, th, td {\n",
       "    border: 1px solid black;\n",
       "    border-collapse: collapse;\n",
       "  }\n",
       "  th, td {\n",
       "    padding: 5px;\n",
       "  }\n",
       "  th {\n",
       "    text-align: left;\n",
       "  }\n",
       "</style><div class='table-result-container'><table class='table-result'><thead style='background-color: white'><tr><th>ano</th><th>data_inicial</th><th>data_final</th><th>evento</th><th>taxa_ocupacao</th></tr></thead><tbody><tr><td>18/02 a 21/02 de 2023</td><td>2023-02-18</td><td>2023-02-21</td><td>Carnaval</td><td>0.9554</td></tr><tr><td>30-31/12 e 01/01 (2022-2023)</td><td>2022-12-30</td><td>2023-01-01</td><td>Reveillon</td><td>0.9251</td></tr><tr><td>08/09 a 11/09 de 2022</td><td>2022-09-08</td><td>2022-09-11</td><td>Rock in Rio</td><td>0.9451</td></tr><tr><td>02/09 a 04/09 de 2022</td><td>2022-09-02</td><td>2022-09-04</td><td>Rock in Rio</td><td>0.8184</td></tr></tbody></table></div>"
      ]
     },
     "metadata": {
      "application/vnd.databricks.v1+output": {
       "addedWidgets": {},
       "aggData": [],
       "aggError": "",
       "aggOverflow": false,
       "aggSchema": [],
       "aggSeriesLimitReached": false,
       "aggType": "",
       "arguments": {},
       "columnCustomDisplayInfos": {},
       "data": [
        [
         "18/02 a 21/02 de 2023",
         "2023-02-18",
         "2023-02-21",
         "Carnaval",
         "0.9554"
        ],
        [
         "30-31/12 e 01/01 (2022-2023)",
         "2022-12-30",
         "2023-01-01",
         "Reveillon",
         "0.9251"
        ],
        [
         "08/09 a 11/09 de 2022",
         "2022-09-08",
         "2022-09-11",
         "Rock in Rio",
         "0.9451"
        ],
        [
         "02/09 a 04/09 de 2022",
         "2022-09-02",
         "2022-09-04",
         "Rock in Rio",
         "0.8184"
        ]
       ],
       "datasetInfos": [],
       "dbfsResultPath": null,
       "isJsonSchema": true,
       "metadata": {},
       "overflow": false,
       "plotOptions": {
        "customPlotOptions": {},
        "displayType": "table",
        "pivotAggregation": null,
        "pivotColumns": null,
        "xColumns": null,
        "yColumns": null
       },
       "removedWidgets": [],
       "schema": [
        {
         "metadata": "{}",
         "name": "ano",
         "type": "\"string\""
        },
        {
         "metadata": "{}",
         "name": "data_inicial",
         "type": "\"string\""
        },
        {
         "metadata": "{}",
         "name": "data_final",
         "type": "\"string\""
        },
        {
         "metadata": "{}",
         "name": "evento",
         "type": "\"string\""
        },
        {
         "metadata": "{}",
         "name": "taxa_ocupacao",
         "type": "\"string\""
        }
       ],
       "type": "table"
      }
     },
     "output_type": "display_data"
    }
   ],
   "source": [
    "# File location and type\n",
    "file_location = \"/FileStore/tables/Eventos.csv\"\n",
    "file_type = \"csv\"\n",
    "\n",
    "# CSV options\n",
    "infer_schema = \"false\"\n",
    "first_row_is_header = \"true\"\n",
    "delimiter = \",\"\n",
    "\n",
    "# The applied options are for CSV files. For other file types, these will be ignored.\n",
    "df = spark.read.format(file_type) \\\n",
    "  .option(\"inferSchema\", infer_schema) \\\n",
    "  .option(\"header\", first_row_is_header) \\\n",
    "  .option(\"sep\", delimiter) \\\n",
    "  .load(file_location)\n",
    "\n",
    "display(df)"
   ]
  },
  {
   "cell_type": "code",
   "execution_count": 0,
   "metadata": {
    "application/vnd.databricks.v1+cell": {
     "cellMetadata": {
      "byteLimit": 2048000,
      "rowLimit": 10000
     },
     "inputWidgets": {},
     "nuid": "db9631f6-bb4a-42ca-8a3c-0d48af932331",
     "showTitle": false,
     "title": ""
    }
   },
   "outputs": [],
   "source": [
    "permanent_table_name = \"Eventos_Bronze\"\n",
    "\n",
    "spark.sql(\"DROP TABLE IF EXISTS Eventos_Bronze\")\n",
    "df.write.mode(\"overwrite\").format(\"delta\").saveAsTable(permanent_table_name)"
   ]
  }
 ],
 "metadata": {
  "application/vnd.databricks.v1+notebook": {
   "dashboards": [],
   "environmentMetadata": null,
   "language": "python",
   "notebookMetadata": {
    "mostRecentlyExecutedCommandWithImplicitDF": {
     "commandId": 4454915903131072,
     "dataframes": [
      "_sqldf"
     ]
    },
    "pythonIndentUnit": 4
   },
   "notebookName": "Eventos_Bronze",
   "widgets": {}
  }
 },
 "nbformat": 4,
 "nbformat_minor": 0
}
