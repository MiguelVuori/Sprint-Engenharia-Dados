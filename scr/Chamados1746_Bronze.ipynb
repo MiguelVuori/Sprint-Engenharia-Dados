{
 "cells": [
  {
   "cell_type": "code",
   "execution_count": 0,
   "metadata": {
    "application/vnd.databricks.v1+cell": {
     "cellMetadata": {
      "byteLimit": 2048000,
      "rowLimit": 10000
     },
     "inputWidgets": {},
     "nuid": "6482be4c-f067-47c9-b0ac-35c938b94601",
     "showTitle": false,
     "title": ""
    }
   },
   "outputs": [
    {
     "output_type": "display_data",
     "data": {
      "text/html": [
       "<style scoped>\n",
       "  .table-result-container {\n",
       "    max-height: 300px;\n",
       "    overflow: auto;\n",
       "  }\n",
       "  table, th, td {\n",
       "    border: 1px solid black;\n",
       "    border-collapse: collapse;\n",
       "  }\n",
       "  th, td {\n",
       "    padding: 5px;\n",
       "  }\n",
       "  th {\n",
       "    text-align: left;\n",
       "  }\n",
       "</style><div class='table-result-container'><table class='table-result'><thead style='background-color: white'><tr><th>id_chamado</th><th>id_origem_ocorrencia</th><th>data_inicio</th><th>data_fim</th><th>id_bairro</th><th>id_territorialidade</th><th>id_logradouro</th><th>numero_logradouro</th><th>id_unidade_organizacional</th><th>nome_unidade_organizacional</th><th>id_unidade_organizacional_mae</th><th>unidade_organizacional_ouvidoria</th><th>categoria</th><th>id_tipo</th><th>tipo</th><th>id_subtipo</th><th>subtipo</th><th>status</th><th>longitude</th><th>latitude</th><th>data_alvo_finalizacao</th><th>data_alvo_diagnostico</th><th>data_real_diagnostico</th><th>tempo_prazo</th><th>prazo_unidade</th><th>prazo_tipo</th><th>dentro_prazo</th><th>situacao</th><th>tipo_situacao</th><th>justificativa_status</th><th>reclamacoes</th><th>data_particao</th></tr></thead><tbody><tr><td>19436959</td><td>1</td><td>2023-11-10 17:17:49</td><td>2023-11-13 08:02:29</td><td>38</td><td>2</td><td>77925</td><td>0</td><td>121</td><td>Ouvidoria GM-RIO</td><td>Ouvidoria Geral</td><td>True</td><td>Serviço</td><td>1615</td><td>Perturbação do sossego</td><td>5071</td><td>Perturbação do sossego</td><td>Fechado com informação</td><td>-43.2595302</td><td>-22.9268142</td><td>2023-12-10 17:54:00</td><td>null</td><td>null</td><td>null</td><td>null</td><td>null</td><td>No prazo</td><td>Encerrado</td><td>Atendido parcialmente</td><td>null</td><td>0</td><td>2023-11-01</td></tr><tr><td>19392287</td><td>1</td><td>2023-11-01 10:34:18</td><td>2023-11-01 14:25:05</td><td>74</td><td>3</td><td>29157</td><td>552</td><td>121</td><td>Ouvidoria GM-RIO</td><td>Ouvidoria Geral</td><td>True</td><td>Serviço</td><td>1615</td><td>Perturbação do sossego</td><td>5071</td><td>Perturbação do sossego</td><td>Fechado com informação</td><td>-43.3103707</td><td>-22.8459998</td><td>2023-12-01 11:09:00</td><td>null</td><td>null</td><td>null</td><td>null</td><td>null</td><td>No prazo</td><td>Encerrado</td><td>Atendido parcialmente</td><td>null</td><td>0</td><td>2023-11-01</td></tr><tr><td>19455405</td><td>1</td><td>2023-11-15 08:26:01</td><td>2023-11-22 08:27:03</td><td>49</td><td>3</td><td>109603</td><td>125</td><td>121</td><td>Ouvidoria GM-RIO</td><td>Ouvidoria Geral</td><td>True</td><td>Serviço</td><td>1615</td><td>Perturbação do sossego</td><td>5071</td><td>Perturbação do sossego</td><td>Fechado com providências</td><td>-43.325409</td><td>-22.8033595</td><td>2023-12-15 10:33:00</td><td>null</td><td>null</td><td>null</td><td>null</td><td>null</td><td>No prazo</td><td>Encerrado</td><td>Atendido parcialmente</td><td>null</td><td>0</td><td>2023-11-01</td></tr><tr><td>19392884</td><td>1</td><td>2023-11-01 11:34:40</td><td>2023-11-22 15:58:00</td><td>4</td><td>1</td><td>271304</td><td>13</td><td>121</td><td>Ouvidoria GM-RIO</td><td>Ouvidoria Geral</td><td>True</td><td>Serviço</td><td>1615</td><td>Perturbação do sossego</td><td>5071</td><td>Perturbação do sossego</td><td>Fechado com informação</td><td>null</td><td>null</td><td>2023-12-01 15:58:00</td><td>null</td><td>null</td><td>null</td><td>null</td><td>null</td><td>No prazo</td><td>Encerrado</td><td>Atendido parcialmente</td><td>null</td><td>0</td><td>2023-11-01</td></tr><tr><td>19469955</td><td>11</td><td>2023-11-17 22:39:01</td><td>2023-11-21 11:14:05</td><td>152</td><td>5</td><td>13862</td><td>9331</td><td>121</td><td>Ouvidoria GM-RIO</td><td>Ouvidoria Geral</td><td>True</td><td>Serviço</td><td>1615</td><td>Perturbação do sossego</td><td>5071</td><td>Perturbação do sossego</td><td>Fechado com informação</td><td>null</td><td>null</td><td>2023-12-18 09:51:00</td><td>null</td><td>null</td><td>null</td><td>null</td><td>null</td><td>No prazo</td><td>Encerrado</td><td>Atendido parcialmente</td><td>null</td><td>0</td><td>2023-11-01</td></tr><tr><td>19416457</td><td>13</td><td>2023-11-07 13:23:47</td><td>2023-11-07 14:19:23</td><td>122</td><td>4</td><td>49122</td><td>627</td><td>121</td><td>Ouvidoria GM-RIO</td><td>Ouvidoria Geral</td><td>True</td><td>Serviço</td><td>1615</td><td>Perturbação do sossego</td><td>5071</td><td>Perturbação do sossego</td><td>Fechado com informação</td><td>-43.3742081</td><td>-22.9175883</td><td>2023-12-07 14:17:00</td><td>null</td><td>null</td><td>null</td><td>null</td><td>null</td><td>No prazo</td><td>Encerrado</td><td>Atendido parcialmente</td><td>null</td><td>0</td><td>2023-11-01</td></tr><tr><td>19503245</td><td>1</td><td>2023-11-25 17:31:08</td><td>2023-11-29 15:29:28</td><td>24</td><td>2</td><td>68882</td><td>1018</td><td>70</td><td>GM-RIO - Guarda Municipal do Rio de Janeiro</td><td>GM-RIO - Guarda Municipal do Rio de Janeiro</td><td>False</td><td>Serviço</td><td>1615</td><td>Perturbação do sossego</td><td>5071</td><td>Perturbação do sossego</td><td>Fechado com solução</td><td>-43.1907211</td><td>-22.9773213</td><td>2023-12-06 14:32:00</td><td>null</td><td>null</td><td>null</td><td>D</td><td>F</td><td>No prazo</td><td>Encerrado</td><td>Atendido</td><td>null</td><td>0</td><td>2023-11-01</td></tr><tr><td>19398567</td><td>1</td><td>2023-11-03 00:31:59</td><td>2023-11-09 08:54:52</td><td>35</td><td>2</td><td>65771</td><td>38</td><td>70</td><td>GM-RIO - Guarda Municipal do Rio de Janeiro</td><td>GM-RIO - Guarda Municipal do Rio de Janeiro</td><td>False</td><td>Serviço</td><td>1615</td><td>Perturbação do sossego</td><td>5071</td><td>Perturbação do sossego</td><td>Fechado com solução</td><td>-43.2329923</td><td>-22.9140563</td><td>2023-11-15 11:39:00</td><td>null</td><td>null</td><td>null</td><td>D</td><td>F</td><td>No prazo</td><td>Encerrado</td><td>Atendido</td><td>null</td><td>0</td><td>2023-11-01</td></tr><tr><td>19392303</td><td>1</td><td>2023-11-01 10:36:15</td><td>2023-11-10 09:35:53</td><td>125</td><td>4</td><td>25072</td><td>0</td><td>70</td><td>GM-RIO - Guarda Municipal do Rio de Janeiro</td><td>GM-RIO - Guarda Municipal do Rio de Janeiro</td><td>False</td><td>Serviço</td><td>1615</td><td>Perturbação do sossego</td><td>5071</td><td>Perturbação do sossego</td><td>Fechado com solução</td><td>-43.3620086</td><td>-22.8809752</td><td>2023-11-15 14:39:00</td><td>null</td><td>null</td><td>null</td><td>D</td><td>F</td><td>No prazo</td><td>Encerrado</td><td>Atendido</td><td>null</td><td>0</td><td>2023-11-01</td></tr><tr><td>19419258</td><td>13</td><td>2023-11-07 21:20:19</td><td>2023-11-09 09:32:38</td><td>132</td><td>4</td><td>95471</td><td>null</td><td>70</td><td>GM-RIO - Guarda Municipal do Rio de Janeiro</td><td>GM-RIO - Guarda Municipal do Rio de Janeiro</td><td>False</td><td>Serviço</td><td>1615</td><td>Perturbação do sossego</td><td>5071</td><td>Perturbação do sossego</td><td>Sem possibilidade de atendimento</td><td>null</td><td>null</td><td>2023-11-15 14:20:00</td><td>null</td><td>null</td><td>null</td><td>D</td><td>F</td><td>No prazo</td><td>Encerrado</td><td>Não atendido</td><td>null</td><td>0</td><td>2023-11-01</td></tr></tbody></table></div>"
      ]
     },
     "metadata": {
      "application/vnd.databricks.v1+output": {
       "addedWidgets": {},
       "aggData": [],
       "aggError": "",
       "aggOverflow": false,
       "aggSchema": [],
       "aggSeriesLimitReached": false,
       "aggType": "",
       "arguments": {},
       "columnCustomDisplayInfos": {},
       "data": [
        [
         "19436959",
         "1",
         "2023-11-10 17:17:49",
         "2023-11-13 08:02:29",
         "38",
         "2",
         "77925",
         "0",
         "121",
         "Ouvidoria GM-RIO",
         "Ouvidoria Geral",
         "True",
         "Serviço",
         "1615",
         "Perturbação do sossego",
         "5071",
         "Perturbação do sossego",
         "Fechado com informação",
         "-43.2595302",
         "-22.9268142",
         "2023-12-10 17:54:00",
         null,
         null,
         null,
         null,
         null,
         "No prazo",
         "Encerrado",
         "Atendido parcialmente",
         null,
         "0",
         "2023-11-01"
        ],
        [
         "19392287",
         "1",
         "2023-11-01 10:34:18",
         "2023-11-01 14:25:05",
         "74",
         "3",
         "29157",
         "552",
         "121",
         "Ouvidoria GM-RIO",
         "Ouvidoria Geral",
         "True",
         "Serviço",
         "1615",
         "Perturbação do sossego",
         "5071",
         "Perturbação do sossego",
         "Fechado com informação",
         "-43.3103707",
         "-22.8459998",
         "2023-12-01 11:09:00",
         null,
         null,
         null,
         null,
         null,
         "No prazo",
         "Encerrado",
         "Atendido parcialmente",
         null,
         "0",
         "2023-11-01"
        ],
        [
         "19455405",
         "1",
         "2023-11-15 08:26:01",
         "2023-11-22 08:27:03",
         "49",
         "3",
         "109603",
         "125",
         "121",
         "Ouvidoria GM-RIO",
         "Ouvidoria Geral",
         "True",
         "Serviço",
         "1615",
         "Perturbação do sossego",
         "5071",
         "Perturbação do sossego",
         "Fechado com providências",
         "-43.325409",
         "-22.8033595",
         "2023-12-15 10:33:00",
         null,
         null,
         null,
         null,
         null,
         "No prazo",
         "Encerrado",
         "Atendido parcialmente",
         null,
         "0",
         "2023-11-01"
        ],
        [
         "19392884",
         "1",
         "2023-11-01 11:34:40",
         "2023-11-22 15:58:00",
         "4",
         "1",
         "271304",
         "13",
         "121",
         "Ouvidoria GM-RIO",
         "Ouvidoria Geral",
         "True",
         "Serviço",
         "1615",
         "Perturbação do sossego",
         "5071",
         "Perturbação do sossego",
         "Fechado com informação",
         null,
         null,
         "2023-12-01 15:58:00",
         null,
         null,
         null,
         null,
         null,
         "No prazo",
         "Encerrado",
         "Atendido parcialmente",
         null,
         "0",
         "2023-11-01"
        ],
        [
         "19469955",
         "11",
         "2023-11-17 22:39:01",
         "2023-11-21 11:14:05",
         "152",
         "5",
         "13862",
         "9331",
         "121",
         "Ouvidoria GM-RIO",
         "Ouvidoria Geral",
         "True",
         "Serviço",
         "1615",
         "Perturbação do sossego",
         "5071",
         "Perturbação do sossego",
         "Fechado com informação",
         null,
         null,
         "2023-12-18 09:51:00",
         null,
         null,
         null,
         null,
         null,
         "No prazo",
         "Encerrado",
         "Atendido parcialmente",
         null,
         "0",
         "2023-11-01"
        ],
        [
         "19416457",
         "13",
         "2023-11-07 13:23:47",
         "2023-11-07 14:19:23",
         "122",
         "4",
         "49122",
         "627",
         "121",
         "Ouvidoria GM-RIO",
         "Ouvidoria Geral",
         "True",
         "Serviço",
         "1615",
         "Perturbação do sossego",
         "5071",
         "Perturbação do sossego",
         "Fechado com informação",
         "-43.3742081",
         "-22.9175883",
         "2023-12-07 14:17:00",
         null,
         null,
         null,
         null,
         null,
         "No prazo",
         "Encerrado",
         "Atendido parcialmente",
         null,
         "0",
         "2023-11-01"
        ],
        [
         "19503245",
         "1",
         "2023-11-25 17:31:08",
         "2023-11-29 15:29:28",
         "24",
         "2",
         "68882",
         "1018",
         "70",
         "GM-RIO - Guarda Municipal do Rio de Janeiro",
         "GM-RIO - Guarda Municipal do Rio de Janeiro",
         "False",
         "Serviço",
         "1615",
         "Perturbação do sossego",
         "5071",
         "Perturbação do sossego",
         "Fechado com solução",
         "-43.1907211",
         "-22.9773213",
         "2023-12-06 14:32:00",
         null,
         null,
         null,
         "D",
         "F",
         "No prazo",
         "Encerrado",
         "Atendido",
         null,
         "0",
         "2023-11-01"
        ],
        [
         "19398567",
         "1",
         "2023-11-03 00:31:59",
         "2023-11-09 08:54:52",
         "35",
         "2",
         "65771",
         "38",
         "70",
         "GM-RIO - Guarda Municipal do Rio de Janeiro",
         "GM-RIO - Guarda Municipal do Rio de Janeiro",
         "False",
         "Serviço",
         "1615",
         "Perturbação do sossego",
         "5071",
         "Perturbação do sossego",
         "Fechado com solução",
         "-43.2329923",
         "-22.9140563",
         "2023-11-15 11:39:00",
         null,
         null,
         null,
         "D",
         "F",
         "No prazo",
         "Encerrado",
         "Atendido",
         null,
         "0",
         "2023-11-01"
        ],
        [
         "19392303",
         "1",
         "2023-11-01 10:36:15",
         "2023-11-10 09:35:53",
         "125",
         "4",
         "25072",
         "0",
         "70",
         "GM-RIO - Guarda Municipal do Rio de Janeiro",
         "GM-RIO - Guarda Municipal do Rio de Janeiro",
         "False",
         "Serviço",
         "1615",
         "Perturbação do sossego",
         "5071",
         "Perturbação do sossego",
         "Fechado com solução",
         "-43.3620086",
         "-22.8809752",
         "2023-11-15 14:39:00",
         null,
         null,
         null,
         "D",
         "F",
         "No prazo",
         "Encerrado",
         "Atendido",
         null,
         "0",
         "2023-11-01"
        ],
        [
         "19419258",
         "13",
         "2023-11-07 21:20:19",
         "2023-11-09 09:32:38",
         "132",
         "4",
         "95471",
         null,
         "70",
         "GM-RIO - Guarda Municipal do Rio de Janeiro",
         "GM-RIO - Guarda Municipal do Rio de Janeiro",
         "False",
         "Serviço",
         "1615",
         "Perturbação do sossego",
         "5071",
         "Perturbação do sossego",
         "Sem possibilidade de atendimento",
         null,
         null,
         "2023-11-15 14:20:00",
         null,
         null,
         null,
         "D",
         "F",
         "No prazo",
         "Encerrado",
         "Não atendido",
         null,
         "0",
         "2023-11-01"
        ]
       ],
       "datasetInfos": [],
       "dbfsResultPath": null,
       "isJsonSchema": true,
       "metadata": {},
       "overflow": false,
       "plotOptions": {
        "customPlotOptions": {},
        "displayType": "table",
        "pivotAggregation": null,
        "pivotColumns": null,
        "xColumns": null,
        "yColumns": null
       },
       "removedWidgets": [],
       "schema": [
        {
         "metadata": "{}",
         "name": "id_chamado",
         "type": "\"string\""
        },
        {
         "metadata": "{}",
         "name": "id_origem_ocorrencia",
         "type": "\"string\""
        },
        {
         "metadata": "{}",
         "name": "data_inicio",
         "type": "\"string\""
        },
        {
         "metadata": "{}",
         "name": "data_fim",
         "type": "\"string\""
        },
        {
         "metadata": "{}",
         "name": "id_bairro",
         "type": "\"string\""
        },
        {
         "metadata": "{}",
         "name": "id_territorialidade",
         "type": "\"string\""
        },
        {
         "metadata": "{}",
         "name": "id_logradouro",
         "type": "\"string\""
        },
        {
         "metadata": "{}",
         "name": "numero_logradouro",
         "type": "\"string\""
        },
        {
         "metadata": "{}",
         "name": "id_unidade_organizacional",
         "type": "\"string\""
        },
        {
         "metadata": "{}",
         "name": "nome_unidade_organizacional",
         "type": "\"string\""
        },
        {
         "metadata": "{}",
         "name": "id_unidade_organizacional_mae",
         "type": "\"string\""
        },
        {
         "metadata": "{}",
         "name": "unidade_organizacional_ouvidoria",
         "type": "\"string\""
        },
        {
         "metadata": "{}",
         "name": "categoria",
         "type": "\"string\""
        },
        {
         "metadata": "{}",
         "name": "id_tipo",
         "type": "\"string\""
        },
        {
         "metadata": "{}",
         "name": "tipo",
         "type": "\"string\""
        },
        {
         "metadata": "{}",
         "name": "id_subtipo",
         "type": "\"string\""
        },
        {
         "metadata": "{}",
         "name": "subtipo",
         "type": "\"string\""
        },
        {
         "metadata": "{}",
         "name": "status",
         "type": "\"string\""
        },
        {
         "metadata": "{}",
         "name": "longitude",
         "type": "\"string\""
        },
        {
         "metadata": "{}",
         "name": "latitude",
         "type": "\"string\""
        },
        {
         "metadata": "{}",
         "name": "data_alvo_finalizacao",
         "type": "\"string\""
        },
        {
         "metadata": "{}",
         "name": "data_alvo_diagnostico",
         "type": "\"string\""
        },
        {
         "metadata": "{}",
         "name": "data_real_diagnostico",
         "type": "\"string\""
        },
        {
         "metadata": "{}",
         "name": "tempo_prazo",
         "type": "\"string\""
        },
        {
         "metadata": "{}",
         "name": "prazo_unidade",
         "type": "\"string\""
        },
        {
         "metadata": "{}",
         "name": "prazo_tipo",
         "type": "\"string\""
        },
        {
         "metadata": "{}",
         "name": "dentro_prazo",
         "type": "\"string\""
        },
        {
         "metadata": "{}",
         "name": "situacao",
         "type": "\"string\""
        },
        {
         "metadata": "{}",
         "name": "tipo_situacao",
         "type": "\"string\""
        },
        {
         "metadata": "{}",
         "name": "justificativa_status",
         "type": "\"string\""
        },
        {
         "metadata": "{}",
         "name": "reclamacoes",
         "type": "\"string\""
        },
        {
         "metadata": "{}",
         "name": "data_particao",
         "type": "\"string\""
        }
       ],
       "type": "table"
      }
     },
     "output_type": "display_data"
    }
   ],
   "source": [
    "# File location and type\n",
    "file_location = \"/FileStore/tables/ChamadosAo1746.csv\"\n",
    "file_type = \"csv\"\n",
    "\n",
    "# CSV options\n",
    "infer_schema = \"false\"\n",
    "first_row_is_header = \"true\"\n",
    "delimiter = \",\"\n",
    "\n",
    "# The applied options are for CSV files. For other file types, these will be ignored.\n",
    "df = spark.read.format(file_type) \\\n",
    "  .option(\"inferSchema\", infer_schema) \\\n",
    "  .option(\"header\", first_row_is_header) \\\n",
    "  .option(\"sep\", delimiter) \\\n",
    "  .load(file_location)\n",
    "\n",
    "display(df.limit(10))"
   ]
  },
  {
   "cell_type": "code",
   "execution_count": 0,
   "metadata": {
    "application/vnd.databricks.v1+cell": {
     "cellMetadata": {
      "byteLimit": 2048000,
      "rowLimit": 10000
     },
     "inputWidgets": {},
     "nuid": "db9631f6-bb4a-42ca-8a3c-0d48af932331",
     "showTitle": false,
     "title": ""
    }
   },
   "outputs": [],
   "source": [
    "permanent_table_name = \"Chamados1746_Bronze\"\n",
    "\n",
    "df.write.mode(\"overwrite\").format(\"delta\").saveAsTable(permanent_table_name)"
   ]
  }
 ],
 "metadata": {
  "application/vnd.databricks.v1+notebook": {
   "dashboards": [],
   "environmentMetadata": null,
   "language": "python",
   "notebookMetadata": {
    "mostRecentlyExecutedCommandWithImplicitDF": {
     "commandId": 3817822461950524,
     "dataframes": [
      "_sqldf"
     ]
    },
    "pythonIndentUnit": 4
   },
   "notebookName": "Chamados1746_Bronze",
   "widgets": {}
  }
 },
 "nbformat": 4,
 "nbformat_minor": 0
}
